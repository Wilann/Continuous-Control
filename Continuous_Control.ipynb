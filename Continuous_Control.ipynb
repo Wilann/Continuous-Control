{
 "cells": [
  {
   "cell_type": "markdown",
   "metadata": {},
   "source": [
    "# Continuous Control\n",
    "\n",
    "---\n",
    "\n",
    "In this notebook, you will learn how to use the Unity ML-Agents environment for the second project of the [Deep Reinforcement Learning Nanodegree](https://www.udacity.com/course/deep-reinforcement-learning-nanodegree--nd893) program.\n",
    "\n",
    "### 1. Start the Environment\n",
    "\n",
    "We begin by importing the necessary packages.  If the code cell below returns an error, please revisit the project instructions to double-check that you have installed [Unity ML-Agents](https://github.com/Unity-Technologies/ml-agents/blob/master/docs/Installation.md) and [NumPy](http://www.numpy.org/)."
   ]
  },
  {
   "cell_type": "code",
   "execution_count": 1,
   "metadata": {},
   "outputs": [],
   "source": [
    "from unityagents import UnityEnvironment\n",
    "import numpy as np"
   ]
  },
  {
   "cell_type": "markdown",
   "metadata": {},
   "source": [
    "Next, we will start the environment!  **_Before running the code cell below_**, change the `file_name` parameter to match the location of the Unity environment that you downloaded.\n",
    "\n",
    "- **Mac**: `\"path/to/Reacher.app\"`\n",
    "- **Windows** (x86): `\"path/to/Reacher_Windows_x86/Reacher.exe\"`\n",
    "- **Windows** (x86_64): `\"path/to/Reacher_Windows_x86_64/Reacher.exe\"`\n",
    "- **Linux** (x86): `\"path/to/Reacher_Linux/Reacher.x86\"`\n",
    "- **Linux** (x86_64): `\"path/to/Reacher_Linux/Reacher.x86_64\"`\n",
    "- **Linux** (x86, headless): `\"path/to/Reacher_Linux_NoVis/Reacher.x86\"`\n",
    "- **Linux** (x86_64, headless): `\"path/to/Reacher_Linux_NoVis/Reacher.x86_64\"`\n",
    "\n",
    "For instance, if you are using a Mac, then you downloaded `Reacher.app`.  If this file is in the same folder as the notebook, then the line below should appear as follows:\n",
    "```\n",
    "env = UnityEnvironment(file_name=\"Reacher.app\")\n",
    "```"
   ]
  },
  {
   "cell_type": "code",
   "execution_count": 2,
   "metadata": {},
   "outputs": [
    {
     "name": "stderr",
     "output_type": "stream",
     "text": [
      "INFO:unityagents:\n",
      "'Academy' started successfully!\n",
      "Unity Academy name: Academy\n",
      "        Number of Brains: 1\n",
      "        Number of External Brains : 1\n",
      "        Lesson number : 0\n",
      "        Reset Parameters :\n",
      "\t\tgoal_size -> 5.0\n",
      "\t\tgoal_speed -> 1.0\n",
      "Unity brain name: ReacherBrain\n",
      "        Number of Visual Observations (per agent): 0\n",
      "        Vector Observation space type: continuous\n",
      "        Vector Observation space size (per agent): 33\n",
      "        Number of stacked Vector Observation: 1\n",
      "        Vector Action space type: continuous\n",
      "        Vector Action space size (per agent): 4\n",
      "        Vector Action descriptions: , , , \n"
     ]
    }
   ],
   "source": [
    "env = UnityEnvironment(file_name='Reacher-1.app')"
   ]
  },
  {
   "cell_type": "markdown",
   "metadata": {},
   "source": [
    "Environments contain **_brains_** which are responsible for deciding the actions of their associated agents. Here we check for the first brain available, and set it as the default brain we will be controlling from Python."
   ]
  },
  {
   "cell_type": "code",
   "execution_count": 3,
   "metadata": {},
   "outputs": [],
   "source": [
    "# get the default brain\n",
    "brain_name = env.brain_names[0]\n",
    "brain = env.brains[brain_name]"
   ]
  },
  {
   "cell_type": "markdown",
   "metadata": {},
   "source": [
    "### 2. Examine the State and Action Spaces\n",
    "\n",
    "In this environment, a double-jointed arm can move to target locations. A reward of `+0.1` is provided for each step that the agent's hand is in the goal location. Thus, the goal of your agent is to maintain its position at the target location for as many time steps as possible.\n",
    "\n",
    "The observation space consists of `33` variables corresponding to position, rotation, velocity, and angular velocities of the arm.  Each action is a vector with four numbers, corresponding to torque applicable to two joints.  Every entry in the action vector must be a number between `-1` and `1`.\n",
    "\n",
    "Run the code cell below to print some information about the environment."
   ]
  },
  {
   "cell_type": "code",
   "execution_count": 4,
   "metadata": {},
   "outputs": [
    {
     "name": "stdout",
     "output_type": "stream",
     "text": [
      "Number of agents: 1\n",
      "Size of each action: 4\n",
      "There are 1 agents. Each observes a state with length: 33\n",
      "The state for the first agent looks like: [ 0.00000000e+00 -4.00000000e+00  0.00000000e+00  1.00000000e+00\n",
      " -0.00000000e+00 -0.00000000e+00 -4.37113883e-08  0.00000000e+00\n",
      "  0.00000000e+00  0.00000000e+00  0.00000000e+00  0.00000000e+00\n",
      "  0.00000000e+00  0.00000000e+00 -1.00000000e+01  0.00000000e+00\n",
      "  1.00000000e+00 -0.00000000e+00 -0.00000000e+00 -4.37113883e-08\n",
      "  0.00000000e+00  0.00000000e+00  0.00000000e+00  0.00000000e+00\n",
      "  0.00000000e+00  0.00000000e+00  5.75471878e+00 -1.00000000e+00\n",
      "  5.55726671e+00  0.00000000e+00  1.00000000e+00  0.00000000e+00\n",
      " -1.68164849e-01]\n"
     ]
    }
   ],
   "source": [
    "# reset the environment\n",
    "env_info = env.reset(train_mode=True)[brain_name]\n",
    "\n",
    "# number of agents\n",
    "num_agents = len(env_info.agents)\n",
    "print('Number of agents:', num_agents)\n",
    "\n",
    "# size of each action\n",
    "action_size = brain.vector_action_space_size\n",
    "print('Size of each action:', action_size)\n",
    "\n",
    "# examine the state space \n",
    "states = env_info.vector_observations\n",
    "state_size = states.shape[1]\n",
    "print('There are {} agents. Each observes a state with length: {}'.format(states.shape[0], state_size))\n",
    "print('The state for the first agent looks like:', states[0])"
   ]
  },
  {
   "cell_type": "markdown",
   "metadata": {},
   "source": [
    "### 3. Take Random Actions in the Environment\n",
    "\n",
    "In the next code cell, you will learn how to use the Python API to control the agent and receive feedback from the environment.\n",
    "\n",
    "Once this cell is executed, you will watch the agent's performance, if it selects an action at random with each time step.  A window should pop up that allows you to observe the agent, as it moves through the environment.  \n",
    "\n",
    "Of course, as part of the project, you'll have to change the code so that the agent is able to use its experience to gradually choose better actions when interacting with the environment!"
   ]
  },
  {
   "cell_type": "code",
   "execution_count": null,
   "metadata": {},
   "outputs": [],
   "source": [
    "# Reset environment\n",
    "env_info = env.reset(train_mode=False)[brain_name]\n",
    "\n",
    "# Get current state (for each agent)\n",
    "states = env_info.vector_observations \n",
    "\n",
    "# Initialize score (for each agent)\n",
    "scores = np.zeros(num_agents)\n",
    "\n",
    "while True:\n",
    "    \n",
    "    # Select action (for each agent)\n",
    "    actions = np.random.randn(num_agents, action_size) \n",
    "    actions = np.clip(actions, -1, 1)  # Clip all actions between -1 and 1\n",
    "    \n",
    "    # Send actions to the environment\n",
    "    env_info = env.step(actions)[brain_name]\n",
    "    \n",
    "    # Results \n",
    "    next_states = env_info.vector_observations  # Next state (for each agent)  \n",
    "    rewards = env_info.rewards  # Reward (for each agent)\n",
    "    dones = env_info.local_done  # See if episode finished\n",
    "    scores += env_info.rewards  # Update score (for each agent)\n",
    "    \n",
    "    # Roll states to next time step\n",
    "    states = next_states\n",
    "    \n",
    "    # Exit loop if episode finished\n",
    "    if np.any(dones):\n",
    "        break\n",
    "\n",
    "print('Total score (averaged over agents) this episode: {}'.format(np.mean(scores)))"
   ]
  },
  {
   "cell_type": "markdown",
   "metadata": {},
   "source": [
    "### 4. It's Your Turn!\n",
    "\n",
    "Now it's your turn to train your own agent to solve the environment!  When training the environment, set `train_mode=True`, so that the line for resetting the environment looks like the following:\n",
    "```python\n",
    "env_info = env.reset(train_mode=True)[brain_name]\n",
    "```"
   ]
  },
  {
   "cell_type": "markdown",
   "metadata": {},
   "source": [
    "<br> \n",
    "\n",
    "#### Imports"
   ]
  },
  {
   "cell_type": "code",
   "execution_count": 5,
   "metadata": {},
   "outputs": [],
   "source": [
    "import random\n",
    "import torch\n",
    "import numpy as np\n",
    "from collections import deque\n",
    "import matplotlib.pyplot as plt\n",
    "%matplotlib inline\n",
    "\n",
    "from ddpg_agent import Agent"
   ]
  },
  {
   "cell_type": "markdown",
   "metadata": {},
   "source": [
    "<br>\n",
    "\n",
    "#### Agent"
   ]
  },
  {
   "cell_type": "markdown",
   "metadata": {},
   "source": [
    "Instantiate "
   ]
  },
  {
   "cell_type": "code",
   "execution_count": 6,
   "metadata": {},
   "outputs": [],
   "source": [
    "agent = Agent(state_size=state_size, action_size=action_size, num_agents=num_agents, random_seed=10)"
   ]
  },
  {
   "cell_type": "markdown",
   "metadata": {},
   "source": [
    "<br> \n",
    "\n",
    "Train"
   ]
  },
  {
   "cell_type": "code",
   "execution_count": 7,
   "metadata": {},
   "outputs": [
    {
     "name": "stderr",
     "output_type": "stream",
     "text": [
      "/Users/wilsonchan/opt/anaconda3/envs/drlnd/lib/python3.6/site-packages/torch/nn/functional.py:1340: UserWarning: nn.functional.tanh is deprecated. Use torch.tanh instead.\n",
      "  warnings.warn(\"nn.functional.tanh is deprecated. Use torch.tanh instead.\")\n"
     ]
    },
    {
     "name": "stdout",
     "output_type": "stream",
     "text": [
      "Episode 1 \tScore: 0.54 \tAverage Score: 0.54\n",
      "Episode 2 \tScore: 1.37 \tAverage Score: 0.95\n",
      "Episode 3 \tScore: 1.11 \tAverage Score: 1.01\n",
      "Episode 4 \tScore: 0.96 \tAverage Score: 0.99\n",
      "Episode 5 \tScore: 2.48 \tAverage Score: 1.29\n",
      "Episode 6 \tScore: 2.36 \tAverage Score: 1.47\n",
      "Episode 7 \tScore: 0.67 \tAverage Score: 1.36\n",
      "Episode 8 \tScore: 0.48 \tAverage Score: 1.25\n",
      "Episode 9 \tScore: 1.14 \tAverage Score: 1.23\n",
      "Episode 10 \tScore: 1.02 \tAverage Score: 1.21\n",
      "Episode 11 \tScore: 1.96 \tAverage Score: 1.28\n",
      "Episode 12 \tScore: 2.82 \tAverage Score: 1.41\n",
      "Episode 13 \tScore: 2.97 \tAverage Score: 1.53\n",
      "Episode 14 \tScore: 1.13 \tAverage Score: 1.50\n",
      "Episode 15 \tScore: 1.12 \tAverage Score: 1.48\n",
      "Episode 16 \tScore: 2.02 \tAverage Score: 1.51\n",
      "Episode 17 \tScore: 2.09 \tAverage Score: 1.54\n",
      "Episode 18 \tScore: 1.82 \tAverage Score: 1.56\n",
      "Episode 19 \tScore: 1.21 \tAverage Score: 1.54\n",
      "Episode 20 \tScore: 1.98 \tAverage Score: 1.56\n",
      "Episode 21 \tScore: 1.23 \tAverage Score: 1.55\n",
      "Episode 22 \tScore: 2.24 \tAverage Score: 1.58\n",
      "Episode 23 \tScore: 4.16 \tAverage Score: 1.69\n",
      "Episode 24 \tScore: 1.34 \tAverage Score: 1.68\n",
      "Episode 25 \tScore: 1.17 \tAverage Score: 1.66\n",
      "Episode 26 \tScore: 3.31 \tAverage Score: 1.72\n",
      "Episode 27 \tScore: 3.28 \tAverage Score: 1.78\n",
      "Episode 28 \tScore: 0.39 \tAverage Score: 1.73\n",
      "Episode 29 \tScore: 1.19 \tAverage Score: 1.71\n",
      "Episode 30 \tScore: 2.16 \tAverage Score: 1.72\n",
      "Episode 31 \tScore: 2.81 \tAverage Score: 1.76\n",
      "Episode 32 \tScore: 3.97 \tAverage Score: 1.83\n",
      "Episode 33 \tScore: 4.11 \tAverage Score: 1.90\n",
      "Episode 34 \tScore: 1.24 \tAverage Score: 1.88\n",
      "Episode 35 \tScore: 2.21 \tAverage Score: 1.89\n",
      "Episode 36 \tScore: 3.30 \tAverage Score: 1.93\n",
      "Episode 37 \tScore: 2.94 \tAverage Score: 1.95\n",
      "Episode 38 \tScore: 4.67 \tAverage Score: 2.03\n",
      "Episode 39 \tScore: 5.38 \tAverage Score: 2.11\n",
      "Episode 40 \tScore: 3.88 \tAverage Score: 2.16\n",
      "Episode 41 \tScore: 3.39 \tAverage Score: 2.19\n",
      "Episode 42 \tScore: 5.12 \tAverage Score: 2.26\n",
      "Episode 43 \tScore: 4.55 \tAverage Score: 2.31\n",
      "Episode 44 \tScore: 4.97 \tAverage Score: 2.37\n",
      "Episode 45 \tScore: 2.84 \tAverage Score: 2.38\n",
      "Episode 46 \tScore: 5.28 \tAverage Score: 2.44\n",
      "Episode 47 \tScore: 4.60 \tAverage Score: 2.49\n",
      "Episode 48 \tScore: 6.42 \tAverage Score: 2.57\n",
      "Episode 49 \tScore: 9.95 \tAverage Score: 2.72\n",
      "Episode 50 \tScore: 7.01 \tAverage Score: 2.81\n",
      "Episode 51 \tScore: 5.92 \tAverage Score: 2.87\n",
      "Episode 52 \tScore: 6.43 \tAverage Score: 2.94\n",
      "Episode 53 \tScore: 14.26 \tAverage Score: 3.15\n",
      "Episode 54 \tScore: 3.58 \tAverage Score: 3.16\n",
      "Episode 55 \tScore: 7.06 \tAverage Score: 3.23\n",
      "Episode 56 \tScore: 7.26 \tAverage Score: 3.30\n",
      "Episode 57 \tScore: 7.03 \tAverage Score: 3.37\n",
      "Episode 58 \tScore: 12.11 \tAverage Score: 3.52\n",
      "Episode 59 \tScore: 3.86 \tAverage Score: 3.52\n",
      "Episode 60 \tScore: 12.46 \tAverage Score: 3.67\n",
      "Episode 61 \tScore: 6.69 \tAverage Score: 3.72\n",
      "Episode 62 \tScore: 6.52 \tAverage Score: 3.77\n",
      "Episode 63 \tScore: 9.87 \tAverage Score: 3.86\n",
      "Episode 64 \tScore: 3.63 \tAverage Score: 3.86\n",
      "Episode 65 \tScore: 3.96 \tAverage Score: 3.86\n",
      "Episode 66 \tScore: 10.18 \tAverage Score: 3.96\n",
      "Episode 67 \tScore: 6.10 \tAverage Score: 3.99\n",
      "Episode 68 \tScore: 5.34 \tAverage Score: 4.01\n",
      "Episode 69 \tScore: 6.02 \tAverage Score: 4.04\n",
      "Episode 70 \tScore: 4.74 \tAverage Score: 4.05\n",
      "Episode 71 \tScore: 10.22 \tAverage Score: 4.14\n",
      "Episode 72 \tScore: 7.88 \tAverage Score: 4.19\n",
      "Episode 73 \tScore: 7.81 \tAverage Score: 4.24\n",
      "Episode 74 \tScore: 7.64 \tAverage Score: 4.28\n",
      "Episode 75 \tScore: 8.19 \tAverage Score: 4.33\n",
      "Episode 76 \tScore: 12.30 \tAverage Score: 4.44\n",
      "Episode 77 \tScore: 10.24 \tAverage Score: 4.52\n",
      "Episode 78 \tScore: 8.24 \tAverage Score: 4.56\n",
      "Episode 79 \tScore: 9.87 \tAverage Score: 4.63\n",
      "Episode 80 \tScore: 6.44 \tAverage Score: 4.65\n",
      "Episode 81 \tScore: 12.06 \tAverage Score: 4.74\n",
      "Episode 82 \tScore: 10.50 \tAverage Score: 4.81\n",
      "Episode 83 \tScore: 16.20 \tAverage Score: 4.95\n",
      "Episode 84 \tScore: 19.57 \tAverage Score: 5.13\n",
      "Episode 85 \tScore: 3.61 \tAverage Score: 5.11\n",
      "Episode 86 \tScore: 10.71 \tAverage Score: 5.17\n",
      "Episode 87 \tScore: 13.52 \tAverage Score: 5.27\n",
      "Episode 88 \tScore: 10.72 \tAverage Score: 5.33\n",
      "Episode 89 \tScore: 16.20 \tAverage Score: 5.45\n",
      "Episode 90 \tScore: 21.75 \tAverage Score: 5.63\n",
      "Episode 91 \tScore: 20.61 \tAverage Score: 5.80\n",
      "Episode 92 \tScore: 23.29 \tAverage Score: 5.99\n",
      "Episode 93 \tScore: 11.32 \tAverage Score: 6.05\n",
      "Episode 94 \tScore: 17.94 \tAverage Score: 6.17\n",
      "Episode 95 \tScore: 16.48 \tAverage Score: 6.28\n",
      "Episode 96 \tScore: 15.41 \tAverage Score: 6.38\n",
      "Episode 97 \tScore: 26.12 \tAverage Score: 6.58\n",
      "Episode 98 \tScore: 14.28 \tAverage Score: 6.66\n",
      "Episode 99 \tScore: 24.99 \tAverage Score: 6.84\n",
      "Episode 100 \tScore: 16.23 \tAverage Score: 6.94\n",
      "Episode 101 \tScore: 29.63 \tAverage Score: 7.23\n",
      "Episode 102 \tScore: 26.56 \tAverage Score: 7.48\n",
      "Episode 103 \tScore: 12.76 \tAverage Score: 7.60\n",
      "Episode 104 \tScore: 29.54 \tAverage Score: 7.88\n",
      "Episode 105 \tScore: 29.98 \tAverage Score: 8.16\n",
      "Episode 106 \tScore: 32.43 \tAverage Score: 8.46\n",
      "Episode 107 \tScore: 33.77 \tAverage Score: 8.79\n",
      "Episode 108 \tScore: 12.78 \tAverage Score: 8.91\n",
      "Episode 109 \tScore: 32.64 \tAverage Score: 9.23\n",
      "Episode 110 \tScore: 27.66 \tAverage Score: 9.49\n",
      "Episode 111 \tScore: 31.48 \tAverage Score: 9.79\n",
      "Episode 112 \tScore: 32.39 \tAverage Score: 10.08\n",
      "Episode 113 \tScore: 28.59 \tAverage Score: 10.34\n",
      "Episode 114 \tScore: 30.48 \tAverage Score: 10.63\n",
      "Episode 115 \tScore: 39.56 \tAverage Score: 11.02\n",
      "Episode 116 \tScore: 34.88 \tAverage Score: 11.35\n",
      "Episode 117 \tScore: 34.13 \tAverage Score: 11.67\n",
      "Episode 118 \tScore: 30.88 \tAverage Score: 11.96\n",
      "Episode 119 \tScore: 39.33 \tAverage Score: 12.34\n",
      "Episode 120 \tScore: 33.41 \tAverage Score: 12.65\n",
      "Episode 121 \tScore: 32.39 \tAverage Score: 12.97\n",
      "Episode 122 \tScore: 36.28 \tAverage Score: 13.31\n",
      "Episode 123 \tScore: 38.97 \tAverage Score: 13.65\n",
      "Episode 124 \tScore: 37.66 \tAverage Score: 14.02\n",
      "Episode 125 \tScore: 38.23 \tAverage Score: 14.39\n",
      "Episode 126 \tScore: 38.41 \tAverage Score: 14.74\n",
      "Episode 127 \tScore: 38.57 \tAverage Score: 15.09\n",
      "Episode 128 \tScore: 37.61 \tAverage Score: 15.46\n",
      "Episode 129 \tScore: 38.63 \tAverage Score: 15.84\n",
      "Episode 130 \tScore: 25.18 \tAverage Score: 16.07\n",
      "Episode 131 \tScore: 35.91 \tAverage Score: 16.40\n",
      "Episode 132 \tScore: 23.41 \tAverage Score: 16.59\n",
      "Episode 133 \tScore: 37.93 \tAverage Score: 16.93\n",
      "Episode 134 \tScore: 34.87 \tAverage Score: 17.27\n",
      "Episode 135 \tScore: 30.90 \tAverage Score: 17.55\n",
      "Episode 136 \tScore: 37.18 \tAverage Score: 17.89\n",
      "Episode 137 \tScore: 37.36 \tAverage Score: 18.24\n",
      "Episode 138 \tScore: 38.73 \tAverage Score: 18.58\n",
      "Episode 139 \tScore: 37.96 \tAverage Score: 18.90\n",
      "Episode 140 \tScore: 36.62 \tAverage Score: 19.23\n",
      "Episode 141 \tScore: 39.37 \tAverage Score: 19.59\n",
      "Episode 142 \tScore: 39.18 \tAverage Score: 19.93\n",
      "Episode 143 \tScore: 39.61 \tAverage Score: 20.28\n",
      "Episode 144 \tScore: 35.98 \tAverage Score: 20.59\n",
      "Episode 145 \tScore: 29.18 \tAverage Score: 20.86\n",
      "Episode 146 \tScore: 38.87 \tAverage Score: 21.19\n",
      "Episode 147 \tScore: 36.76 \tAverage Score: 21.51\n",
      "Episode 148 \tScore: 39.57 \tAverage Score: 21.85\n",
      "Episode 149 \tScore: 34.04 \tAverage Score: 22.09\n",
      "Episode 150 \tScore: 39.24 \tAverage Score: 22.41\n",
      "Episode 151 \tScore: 38.59 \tAverage Score: 22.74\n",
      "Episode 152 \tScore: 38.64 \tAverage Score: 23.06\n",
      "Episode 153 \tScore: 38.11 \tAverage Score: 23.30\n",
      "Episode 154 \tScore: 35.14 \tAverage Score: 23.61\n",
      "Episode 155 \tScore: 39.08 \tAverage Score: 23.93\n",
      "Episode 156 \tScore: 32.69 \tAverage Score: 24.19\n",
      "Episode 157 \tScore: 36.87 \tAverage Score: 24.48\n",
      "Episode 158 \tScore: 38.19 \tAverage Score: 24.74\n",
      "Episode 159 \tScore: 39.00 \tAverage Score: 25.10\n",
      "Episode 160 \tScore: 31.03 \tAverage Score: 25.28\n",
      "Episode 161 \tScore: 38.91 \tAverage Score: 25.60\n",
      "Episode 162 \tScore: 31.50 \tAverage Score: 25.85\n",
      "Episode 163 \tScore: 36.21 \tAverage Score: 26.12\n",
      "Episode 164 \tScore: 37.23 \tAverage Score: 26.45\n",
      "Episode 165 \tScore: 39.47 \tAverage Score: 26.81\n",
      "Episode 166 \tScore: 39.23 \tAverage Score: 27.10\n",
      "Episode 167 \tScore: 39.22 \tAverage Score: 27.43\n",
      "Episode 168 \tScore: 38.36 \tAverage Score: 27.76\n",
      "Episode 169 \tScore: 34.65 \tAverage Score: 28.05\n",
      "Episode 170 \tScore: 37.71 \tAverage Score: 28.38\n",
      "Episode 171 \tScore: 36.40 \tAverage Score: 28.64\n",
      "Episode 172 \tScore: 36.59 \tAverage Score: 28.93\n",
      "Episode 173 \tScore: 34.24 \tAverage Score: 29.19\n",
      "Episode 174 \tScore: 39.12 \tAverage Score: 29.50\n",
      "Episode 175 \tScore: 38.10 \tAverage Score: 29.80\n",
      "Episode 176 \tScore: 33.96 \tAverage Score: 30.02\n",
      "Environment solved in 76 episodes! Average score of 30.02\n"
     ]
    }
   ],
   "source": [
    "def ddpg(n_episodes=3000, max_t=10000, print_every=100):\n",
    "    \n",
    "    scores_deque = deque(maxlen=print_every) # Last 'print_every' scores\n",
    "    scores = [] # All scores \n",
    "    \n",
    "    # Iterate over episodes \n",
    "    for i_episode in range(1, n_episodes+1):\n",
    "        \n",
    "        # Reset environment, state, agent, and score \n",
    "        env_info = env.reset(train_mode=True)[brain_name]\n",
    "        state = env_info.vector_observations[0]  # Current state \n",
    "        agent.reset()\n",
    "        score = 0\n",
    "        \n",
    "        # Iterate over time steps \n",
    "        for t in range(max_t): \n",
    "            \n",
    "            # Action (for each agent)\n",
    "            action = agent.act(state)\n",
    "            \n",
    "            # Send actions to the environment\n",
    "            env_info = env.step(action)[brain_name]\n",
    "            \n",
    "            # Results \n",
    "            next_state = env_info.vector_observations[0]  # Next state (for each agent)  \n",
    "            reward = env_info.rewards[0]  # Reward (for each agent)\n",
    "            done = env_info.local_done[0]  # See if episode finished\n",
    "\n",
    "            # Step \n",
    "            agent.step(state, action, reward, next_state, done)\n",
    "\n",
    "            score += reward  # Update score (for each agent)\n",
    "            state = next_state  # Move current state forward \n",
    "            \n",
    "            # If envionment is over, break \n",
    "            if done:\n",
    "                break \n",
    "        \n",
    "        # Save scores\n",
    "        scores_deque.append(score)\n",
    "        scores.append(score)\n",
    "        \n",
    "        # Save Actor & Critic Weights \n",
    "        torch.save(agent.actor_local.state_dict(), 'checkpoint_actor.pth')\n",
    "        torch.save(agent.critic_local.state_dict(), 'checkpoint_critic.pth')\n",
    "        \n",
    "        # Print current episode, score, and average of last 'print_every' scores\n",
    "        print('\\rEpisode {} \\tScore: {:.2f} \\tAverage Score: {:.2f}'.format(i_episode, score, np.mean(scores_deque)))\n",
    "        \n",
    "        # Environment solved when average of last 100 scores is greater or equal to 30\n",
    "        if np.mean(scores_deque) >= 30.0: \n",
    "            print('Environment solved in {:d} episodes! Average score of {:.2f}'.format(i_episode-100, np.mean(scores_deque)))\n",
    "            break\n",
    "        \n",
    "    return scores\n",
    "\n",
    "scores = ddpg()"
   ]
  },
  {
   "cell_type": "markdown",
   "metadata": {},
   "source": [
    "<br> \n",
    "\n",
    "Plot"
   ]
  },
  {
   "cell_type": "code",
   "execution_count": 8,
   "metadata": {},
   "outputs": [
    {
     "data": {
      "image/png": "[encoded data removed]",
      "text/plain": [
       "<Figure size 432x288 with 1 Axes>"
      ]
     },
     "metadata": {
      "needs_background": "light"
     },
     "output_type": "display_data"
    }
   ],
   "source": [
    "fig = plt.figure()\n",
    "ax = fig.add_subplot(111)\n",
    "plt.plot(np.arange(1, len(scores)+1), scores)\n",
    "plt.ylabel('Score')\n",
    "plt.xlabel('Episode #')\n",
    "plt.show()"
   ]
  },
  {
   "cell_type": "markdown",
   "metadata": {},
   "source": [
    "<br> \n",
    "\n",
    "Load Weights"
   ]
  },
  {
   "cell_type": "code",
   "execution_count": null,
   "metadata": {},
   "outputs": [],
   "source": [
    "agent.actor_local.load_state_dict(torch.load('checkpoint_actor.pth'))\n",
    "agent.critic_local.load_state_dict(torch.load('checkpoint_critic.pth'))"
   ]
  },
  {
   "cell_type": "markdown",
   "metadata": {},
   "source": [
    "<br> \n",
    "\n",
    "Watching a Smart Agent"
   ]
  },
  {
   "cell_type": "code",
   "execution_count": 12,
   "metadata": {},
   "outputs": [
    {
     "name": "stdout",
     "output_type": "stream",
     "text": [
      "Score: 38.94999912939966666\r"
     ]
    }
   ],
   "source": [
    "# Reset Environment \n",
    "env.reset(train_mode=False)[brain_name]\n",
    "\n",
    "# Current state \n",
    "state = env_info.vector_observations[0]  \n",
    "\n",
    "# Initialize score\n",
    "score = 0\n",
    "\n",
    "for t in range(10000):\n",
    "    \n",
    "    # Action\n",
    "    action = agent.act(state, add_noise=False)\n",
    "    \n",
    "    # Take a step in the environment        \n",
    "    env_info = env.step(action)[brain_name] \n",
    "        \n",
    "    # Next State\n",
    "    next_state = env_info.vector_observations[0]\n",
    "            \n",
    "    # Reward\n",
    "    reward = env_info.rewards[0]\n",
    "            \n",
    "    # Done \n",
    "    done = env_info.local_done[0]\n",
    "        \n",
    "    # Move state forwards \n",
    "    state = next_state\n",
    "            \n",
    "    # Cumulatively sum reward \n",
    "    score += reward\n",
    "    \n",
    "    print('Score:', score, end='\\r')\n",
    "    \n",
    "    # If simulation is over, break \n",
    "    if done:\n",
    "        break"
   ]
  },
  {
   "cell_type": "markdown",
   "metadata": {},
   "source": [
    "<br> \n",
    "\n",
    "Close Environment"
   ]
  },
  {
   "cell_type": "code",
   "execution_count": 13,
   "metadata": {},
   "outputs": [],
   "source": [
    "env.close()"
   ]
  },
  {
   "cell_type": "markdown",
   "metadata": {},
   "source": [
    "<br>"
   ]
  }
 ],
 "metadata": {
  "kernelspec": {
   "display_name": "drlnd",
   "language": "python",
   "name": "drlnd"
  },
  "language_info": {
   "codemirror_mode": {
    "name": "ipython",
    "version": 3
   },
   "file_extension": ".py",
   "mimetype": "text/x-python",
   "name": "python",
   "nbconvert_exporter": "python",
   "pygments_lexer": "ipython3",
   "version": "3.6.10"
  }
 },
 "nbformat": 4,
 "nbformat_minor": 4
}
