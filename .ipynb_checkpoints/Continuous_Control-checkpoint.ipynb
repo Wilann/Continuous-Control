{
 "cells": [
  {
   "cell_type": "markdown",
   "metadata": {},
   "source": [
    "# Continuous Control\n",
    "\n",
    "---\n",
    "\n",
    "In this notebook, you will learn how to use the Unity ML-Agents environment for the second project of the [Deep Reinforcement Learning Nanodegree](https://www.udacity.com/course/deep-reinforcement-learning-nanodegree--nd893) program.\n",
    "\n",
    "### 1. Start the Environment\n",
    "\n",
    "We begin by importing the necessary packages.  If the code cell below returns an error, please revisit the project instructions to double-check that you have installed [Unity ML-Agents](https://github.com/Unity-Technologies/ml-agents/blob/master/docs/Installation.md) and [NumPy](http://www.numpy.org/)."
   ]
  },
  {
   "cell_type": "code",
   "execution_count": 1,
   "metadata": {},
   "outputs": [],
   "source": [
    "from unityagents import UnityEnvironment\n",
    "import numpy as np"
   ]
  },
  {
   "cell_type": "markdown",
   "metadata": {},
   "source": [
    "Next, we will start the environment!  **_Before running the code cell below_**, change the `file_name` parameter to match the location of the Unity environment that you downloaded.\n",
    "\n",
    "- **Mac**: `\"path/to/Reacher.app\"`\n",
    "- **Windows** (x86): `\"path/to/Reacher_Windows_x86/Reacher.exe\"`\n",
    "- **Windows** (x86_64): `\"path/to/Reacher_Windows_x86_64/Reacher.exe\"`\n",
    "- **Linux** (x86): `\"path/to/Reacher_Linux/Reacher.x86\"`\n",
    "- **Linux** (x86_64): `\"path/to/Reacher_Linux/Reacher.x86_64\"`\n",
    "- **Linux** (x86, headless): `\"path/to/Reacher_Linux_NoVis/Reacher.x86\"`\n",
    "- **Linux** (x86_64, headless): `\"path/to/Reacher_Linux_NoVis/Reacher.x86_64\"`\n",
    "\n",
    "For instance, if you are using a Mac, then you downloaded `Reacher.app`.  If this file is in the same folder as the notebook, then the line below should appear as follows:\n",
    "```\n",
    "env = UnityEnvironment(file_name=\"Reacher.app\")\n",
    "```"
   ]
  },
  {
   "cell_type": "code",
   "execution_count": 2,
   "metadata": {},
   "outputs": [
    {
     "name": "stderr",
     "output_type": "stream",
     "text": [
      "INFO:unityagents:\n",
      "'Academy' started successfully!\n",
      "Unity Academy name: Academy\n",
      "        Number of Brains: 1\n",
      "        Number of External Brains : 1\n",
      "        Lesson number : 0\n",
      "        Reset Parameters :\n",
      "\t\tgoal_speed -> 1.0\n",
      "\t\tgoal_size -> 5.0\n",
      "Unity brain name: ReacherBrain\n",
      "        Number of Visual Observations (per agent): 0\n",
      "        Vector Observation space type: continuous\n",
      "        Vector Observation space size (per agent): 33\n",
      "        Number of stacked Vector Observation: 1\n",
      "        Vector Action space type: continuous\n",
      "        Vector Action space size (per agent): 4\n",
      "        Vector Action descriptions: , , , \n"
     ]
    }
   ],
   "source": [
    "env = UnityEnvironment(file_name='Reacher-1.app')"
   ]
  },
  {
   "cell_type": "markdown",
   "metadata": {},
   "source": [
    "Environments contain **_brains_** which are responsible for deciding the actions of their associated agents. Here we check for the first brain available, and set it as the default brain we will be controlling from Python."
   ]
  },
  {
   "cell_type": "code",
   "execution_count": 3,
   "metadata": {},
   "outputs": [],
   "source": [
    "# get the default brain\n",
    "brain_name = env.brain_names[0]\n",
    "brain = env.brains[brain_name]"
   ]
  },
  {
   "cell_type": "markdown",
   "metadata": {},
   "source": [
    "### 2. Examine the State and Action Spaces\n",
    "\n",
    "In this environment, a double-jointed arm can move to target locations. A reward of `+0.1` is provided for each step that the agent's hand is in the goal location. Thus, the goal of your agent is to maintain its position at the target location for as many time steps as possible.\n",
    "\n",
    "The observation space consists of `33` variables corresponding to position, rotation, velocity, and angular velocities of the arm.  Each action is a vector with four numbers, corresponding to torque applicable to two joints.  Every entry in the action vector must be a number between `-1` and `1`.\n",
    "\n",
    "Run the code cell below to print some information about the environment."
   ]
  },
  {
   "cell_type": "code",
   "execution_count": 4,
   "metadata": {},
   "outputs": [
    {
     "name": "stdout",
     "output_type": "stream",
     "text": [
      "Number of agents: 1\n",
      "Size of each action: 4\n",
      "There are 1 agents. Each observes a state with length: 33\n",
      "The state for the first agent looks like: [ 0.00000000e+00 -4.00000000e+00  0.00000000e+00  1.00000000e+00\n",
      " -0.00000000e+00 -0.00000000e+00 -4.37113883e-08  0.00000000e+00\n",
      "  0.00000000e+00  0.00000000e+00  0.00000000e+00  0.00000000e+00\n",
      "  0.00000000e+00  0.00000000e+00 -1.00000000e+01  0.00000000e+00\n",
      "  1.00000000e+00 -0.00000000e+00 -0.00000000e+00 -4.37113883e-08\n",
      "  0.00000000e+00  0.00000000e+00  0.00000000e+00  0.00000000e+00\n",
      "  0.00000000e+00  0.00000000e+00  5.75471878e+00 -1.00000000e+00\n",
      "  5.55726671e+00  0.00000000e+00  1.00000000e+00  0.00000000e+00\n",
      " -1.68164849e-01]\n"
     ]
    }
   ],
   "source": [
    "# reset the environment\n",
    "env_info = env.reset(train_mode=True)[brain_name]\n",
    "\n",
    "# number of agents\n",
    "num_agents = len(env_info.agents)\n",
    "print('Number of agents:', num_agents)\n",
    "\n",
    "# size of each action\n",
    "action_size = brain.vector_action_space_size\n",
    "print('Size of each action:', action_size)\n",
    "\n",
    "# examine the state space \n",
    "states = env_info.vector_observations\n",
    "state_size = states.shape[1]\n",
    "print('There are {} agents. Each observes a state with length: {}'.format(states.shape[0], state_size))\n",
    "print('The state for the first agent looks like:', states[0])"
   ]
  },
  {
   "cell_type": "markdown",
   "metadata": {},
   "source": [
    "### 3. Take Random Actions in the Environment\n",
    "\n",
    "In the next code cell, you will learn how to use the Python API to control the agent and receive feedback from the environment.\n",
    "\n",
    "Once this cell is executed, you will watch the agent's performance, if it selects an action at random with each time step.  A window should pop up that allows you to observe the agent, as it moves through the environment.  \n",
    "\n",
    "Of course, as part of the project, you'll have to change the code so that the agent is able to use its experience to gradually choose better actions when interacting with the environment!"
   ]
  },
  {
   "cell_type": "code",
   "execution_count": null,
   "metadata": {},
   "outputs": [],
   "source": [
    "# Reset environment\n",
    "env_info = env.reset(train_mode=False)[brain_name]\n",
    "\n",
    "# Get current state (for each agent)\n",
    "states = env_info.vector_observations \n",
    "\n",
    "# Initialize score (for each agent)\n",
    "scores = np.zeros(num_agents)\n",
    "\n",
    "while True:\n",
    "    \n",
    "    # Select action (for each agent)\n",
    "    actions = np.random.randn(num_agents, action_size) \n",
    "    actions = np.clip(actions, -1, 1)  # Clip all actions between -1 and 1\n",
    "    \n",
    "    # Send actions to the environment\n",
    "    env_info = env.step(actions)[brain_name]\n",
    "    \n",
    "    # Results \n",
    "    next_states = env_info.vector_observations  # Next state (for each agent)  \n",
    "    rewards = env_info.rewards  # Reward (for each agent)\n",
    "    dones = env_info.local_done  # See if episode finished\n",
    "    scores += env_info.rewards  # Update score (for each agent)\n",
    "    \n",
    "    # Roll states to next time step\n",
    "    states = next_states\n",
    "    \n",
    "    # Exit loop if episode finished\n",
    "    if np.any(dones):\n",
    "        break\n",
    "\n",
    "print('Total score (averaged over agents) this episode: {}'.format(np.mean(scores)))"
   ]
  },
  {
   "cell_type": "markdown",
   "metadata": {},
   "source": [
    "### 4. It's Your Turn!\n",
    "\n",
    "Now it's your turn to train your own agent to solve the environment!  When training the environment, set `train_mode=True`, so that the line for resetting the environment looks like the following:\n",
    "```python\n",
    "env_info = env.reset(train_mode=True)[brain_name]\n",
    "```"
   ]
  },
  {
   "cell_type": "markdown",
   "metadata": {},
   "source": [
    "<br> \n",
    "\n",
    "#### Imports"
   ]
  },
  {
   "cell_type": "code",
   "execution_count": 5,
   "metadata": {},
   "outputs": [],
   "source": [
    "import random\n",
    "import torch\n",
    "import numpy as np\n",
    "from collections import deque\n",
    "import matplotlib.pyplot as plt\n",
    "%matplotlib inline\n",
    "\n",
    "from ddpg_agent import Agent"
   ]
  },
  {
   "cell_type": "markdown",
   "metadata": {},
   "source": [
    "<br>\n",
    "\n",
    "#### Agent"
   ]
  },
  {
   "cell_type": "markdown",
   "metadata": {},
   "source": [
    "Instantiate "
   ]
  },
  {
   "cell_type": "code",
   "execution_count": 8,
   "metadata": {},
   "outputs": [
    {
     "ename": "TypeError",
     "evalue": "__init__() got an unexpected keyword argument 'num_agents'",
     "output_type": "error",
     "traceback": [
      "\u001b[0;31m---------------------------------------------------------------------------\u001b[0m",
      "\u001b[0;31mTypeError\u001b[0m                                 Traceback (most recent call last)",
      "\u001b[0;32m<ipython-input-8-8dd7623dc8b4>\u001b[0m in \u001b[0;36m<module>\u001b[0;34m\u001b[0m\n\u001b[0;32m----> 1\u001b[0;31m \u001b[0magent\u001b[0m \u001b[0;34m=\u001b[0m \u001b[0mAgent\u001b[0m\u001b[0;34m(\u001b[0m\u001b[0mstate_size\u001b[0m\u001b[0;34m=\u001b[0m\u001b[0mstate_size\u001b[0m\u001b[0;34m,\u001b[0m \u001b[0maction_size\u001b[0m\u001b[0;34m=\u001b[0m\u001b[0maction_size\u001b[0m\u001b[0;34m,\u001b[0m \u001b[0mnum_agents\u001b[0m\u001b[0;34m=\u001b[0m\u001b[0mnum_agents\u001b[0m\u001b[0;34m,\u001b[0m \u001b[0mrandom_seed\u001b[0m\u001b[0;34m=\u001b[0m\u001b[0;36m42\u001b[0m\u001b[0;34m)\u001b[0m\u001b[0;34m\u001b[0m\u001b[0;34m\u001b[0m\u001b[0m\n\u001b[0m",
      "\u001b[0;31mTypeError\u001b[0m: __init__() got an unexpected keyword argument 'num_agents'"
     ]
    }
   ],
   "source": [
    "agent = Agent(state_size=state_size, action_size=action_size, num_agents=num_agents, random_seed=42)"
   ]
  },
  {
   "cell_type": "markdown",
   "metadata": {},
   "source": [
    "<br> \n",
    "\n",
    "Train"
   ]
  },
  {
   "cell_type": "code",
   "execution_count": 7,
   "metadata": {},
   "outputs": [
    {
     "name": "stderr",
     "output_type": "stream",
     "text": [
      "/Users/wilsonchan/opt/anaconda3/envs/drlnd/lib/python3.6/site-packages/torch/nn/functional.py:1340: UserWarning: nn.functional.tanh is deprecated. Use torch.tanh instead.\n",
      "  warnings.warn(\"nn.functional.tanh is deprecated. Use torch.tanh instead.\")\n"
     ]
    },
    {
     "name": "stdout",
     "output_type": "stream",
     "text": [
      "Episode 1 \tScore: 0.23 \tAverage Score: 0.23\n",
      "Episode 2 \tScore: 0.88 \tAverage Score: 0.55\n",
      "Episode 3 \tScore: 0.92 \tAverage Score: 0.68\n",
      "Episode 4 \tScore: 1.13 \tAverage Score: 0.79\n",
      "Episode 5 \tScore: 0.83 \tAverage Score: 0.80\n",
      "Episode 6 \tScore: 0.59 \tAverage Score: 0.76\n",
      "Episode 7 \tScore: 0.39 \tAverage Score: 0.71\n",
      "Episode 8 \tScore: 0.08 \tAverage Score: 0.63\n",
      "Episode 9 \tScore: 0.63 \tAverage Score: 0.63\n",
      "Episode 10 \tScore: 0.93 \tAverage Score: 0.66\n",
      "Episode 11 \tScore: 1.26 \tAverage Score: 0.72\n",
      "Episode 12 \tScore: 0.80 \tAverage Score: 0.72\n",
      "Episode 13 \tScore: 0.28 \tAverage Score: 0.69\n",
      "Episode 14 \tScore: 1.31 \tAverage Score: 0.73\n",
      "Episode 15 \tScore: 1.65 \tAverage Score: 0.79\n",
      "Episode 16 \tScore: 0.60 \tAverage Score: 0.78\n",
      "Episode 17 \tScore: 0.78 \tAverage Score: 0.78\n",
      "Episode 18 \tScore: 0.63 \tAverage Score: 0.77\n",
      "Episode 19 \tScore: 1.87 \tAverage Score: 0.83\n",
      "Episode 20 \tScore: 0.13 \tAverage Score: 0.80\n",
      "Episode 21 \tScore: 0.70 \tAverage Score: 0.79\n",
      "Episode 22 \tScore: 1.19 \tAverage Score: 0.81\n",
      "Episode 23 \tScore: 2.19 \tAverage Score: 0.87\n",
      "Episode 24 \tScore: 0.58 \tAverage Score: 0.86\n",
      "Episode 25 \tScore: 1.33 \tAverage Score: 0.88\n",
      "Episode 26 \tScore: 1.74 \tAverage Score: 0.91\n",
      "Episode 27 \tScore: 2.75 \tAverage Score: 0.98\n",
      "Episode 28 \tScore: 1.27 \tAverage Score: 0.99\n",
      "Episode 29 \tScore: 3.20 \tAverage Score: 1.06\n",
      "Episode 30 \tScore: 0.71 \tAverage Score: 1.05\n",
      "Episode 31 \tScore: 1.89 \tAverage Score: 1.08\n",
      "Episode 32 \tScore: 2.56 \tAverage Score: 1.13\n",
      "Episode 33 \tScore: 0.86 \tAverage Score: 1.12\n",
      "Episode 34 \tScore: 1.57 \tAverage Score: 1.13\n",
      "Episode 35 \tScore: 1.25 \tAverage Score: 1.13\n",
      "Episode 36 \tScore: 1.37 \tAverage Score: 1.14\n",
      "Episode 37 \tScore: 2.41 \tAverage Score: 1.18\n",
      "Episode 38 \tScore: 1.38 \tAverage Score: 1.18\n",
      "Episode 39 \tScore: 0.77 \tAverage Score: 1.17\n",
      "Episode 40 \tScore: 1.43 \tAverage Score: 1.18\n",
      "Episode 41 \tScore: 1.45 \tAverage Score: 1.18\n",
      "Episode 42 \tScore: 2.64 \tAverage Score: 1.22\n",
      "Episode 43 \tScore: 2.85 \tAverage Score: 1.26\n",
      "Episode 44 \tScore: 1.79 \tAverage Score: 1.27\n",
      "Episode 45 \tScore: 1.12 \tAverage Score: 1.26\n",
      "Episode 46 \tScore: 1.71 \tAverage Score: 1.27\n",
      "Episode 47 \tScore: 1.16 \tAverage Score: 1.27\n",
      "Episode 48 \tScore: 1.46 \tAverage Score: 1.28\n",
      "Episode 49 \tScore: 1.65 \tAverage Score: 1.28\n",
      "Episode 50 \tScore: 0.90 \tAverage Score: 1.28\n",
      "Episode 51 \tScore: 1.60 \tAverage Score: 1.28\n",
      "Episode 52 \tScore: 0.99 \tAverage Score: 1.28\n",
      "Episode 53 \tScore: 0.36 \tAverage Score: 1.26\n",
      "Episode 54 \tScore: 0.46 \tAverage Score: 1.24\n",
      "Episode 55 \tScore: 0.69 \tAverage Score: 1.23\n",
      "Episode 56 \tScore: 0.17 \tAverage Score: 1.22\n",
      "Episode 57 \tScore: 0.83 \tAverage Score: 1.21\n",
      "Episode 58 \tScore: 1.10 \tAverage Score: 1.21\n",
      "Episode 59 \tScore: 0.93 \tAverage Score: 1.20\n",
      "Episode 60 \tScore: 0.73 \tAverage Score: 1.19\n",
      "Episode 61 \tScore: 1.62 \tAverage Score: 1.20\n",
      "Episode 62 \tScore: 1.39 \tAverage Score: 1.20\n",
      "Episode 63 \tScore: 0.43 \tAverage Score: 1.19\n",
      "Episode 64 \tScore: 0.32 \tAverage Score: 1.18\n",
      "Episode 65 \tScore: 0.22 \tAverage Score: 1.16\n",
      "Episode 66 \tScore: 1.30 \tAverage Score: 1.17\n",
      "Episode 67 \tScore: 1.41 \tAverage Score: 1.17\n",
      "Episode 68 \tScore: 0.75 \tAverage Score: 1.16\n",
      "Episode 69 \tScore: 0.12 \tAverage Score: 1.15\n",
      "Episode 70 \tScore: 0.88 \tAverage Score: 1.14\n",
      "Episode 71 \tScore: 1.49 \tAverage Score: 1.15\n",
      "Episode 72 \tScore: 1.30 \tAverage Score: 1.15\n",
      "Episode 73 \tScore: 1.59 \tAverage Score: 1.16\n",
      "Episode 74 \tScore: 2.23 \tAverage Score: 1.17\n",
      "Episode 75 \tScore: 1.06 \tAverage Score: 1.17\n",
      "Episode 76 \tScore: 1.46 \tAverage Score: 1.17\n",
      "Episode 77 \tScore: 1.10 \tAverage Score: 1.17\n",
      "Episode 78 \tScore: 1.29 \tAverage Score: 1.17\n",
      "Episode 79 \tScore: 0.71 \tAverage Score: 1.17\n",
      "Episode 80 \tScore: 0.90 \tAverage Score: 1.17\n",
      "Episode 81 \tScore: 1.37 \tAverage Score: 1.17\n",
      "Episode 82 \tScore: 2.06 \tAverage Score: 1.18\n",
      "Episode 83 \tScore: 1.63 \tAverage Score: 1.18\n",
      "Episode 84 \tScore: 0.50 \tAverage Score: 1.18\n",
      "Episode 85 \tScore: 1.63 \tAverage Score: 1.18\n",
      "Episode 86 \tScore: 1.14 \tAverage Score: 1.18\n",
      "Episode 87 \tScore: 0.29 \tAverage Score: 1.17\n",
      "Episode 88 \tScore: 1.79 \tAverage Score: 1.18\n",
      "Episode 89 \tScore: 1.61 \tAverage Score: 1.18\n",
      "Episode 90 \tScore: 1.12 \tAverage Score: 1.18\n",
      "Episode 91 \tScore: 0.94 \tAverage Score: 1.18\n",
      "Episode 92 \tScore: 0.92 \tAverage Score: 1.18\n",
      "Episode 93 \tScore: 0.87 \tAverage Score: 1.17\n",
      "Episode 94 \tScore: 0.70 \tAverage Score: 1.17\n",
      "Episode 95 \tScore: 2.23 \tAverage Score: 1.18\n",
      "Episode 96 \tScore: 0.77 \tAverage Score: 1.17\n",
      "Episode 97 \tScore: 0.70 \tAverage Score: 1.17\n",
      "Episode 98 \tScore: 1.16 \tAverage Score: 1.17\n",
      "Episode 99 \tScore: 1.04 \tAverage Score: 1.17\n",
      "Episode 100 \tScore: 2.81 \tAverage Score: 1.19\n",
      "Episode 101 \tScore: 1.01 \tAverage Score: 1.19\n",
      "Episode 102 \tScore: 1.54 \tAverage Score: 1.20\n",
      "Episode 103 \tScore: 1.18 \tAverage Score: 1.20\n",
      "Episode 104 \tScore: 0.85 \tAverage Score: 1.20\n",
      "Episode 105 \tScore: 2.11 \tAverage Score: 1.21\n",
      "Episode 106 \tScore: 1.48 \tAverage Score: 1.22\n",
      "Episode 107 \tScore: 0.27 \tAverage Score: 1.22\n",
      "Episode 108 \tScore: 2.60 \tAverage Score: 1.24\n",
      "Episode 109 \tScore: 2.02 \tAverage Score: 1.26\n",
      "Episode 110 \tScore: 0.91 \tAverage Score: 1.26\n",
      "Episode 111 \tScore: 2.50 \tAverage Score: 1.27\n",
      "Episode 112 \tScore: 1.32 \tAverage Score: 1.28\n",
      "Episode 113 \tScore: 1.56 \tAverage Score: 1.29\n",
      "Episode 114 \tScore: 0.89 \tAverage Score: 1.28\n",
      "Episode 115 \tScore: 0.76 \tAverage Score: 1.28\n",
      "Episode 116 \tScore: 0.08 \tAverage Score: 1.27\n",
      "Episode 117 \tScore: 0.33 \tAverage Score: 1.27\n",
      "Episode 118 \tScore: 1.18 \tAverage Score: 1.27\n",
      "Episode 119 \tScore: 2.55 \tAverage Score: 1.28\n",
      "Episode 120 \tScore: 0.55 \tAverage Score: 1.28\n",
      "Episode 121 \tScore: 0.74 \tAverage Score: 1.28\n",
      "Episode 122 \tScore: 1.15 \tAverage Score: 1.28\n",
      "Episode 123 \tScore: 1.61 \tAverage Score: 1.28\n",
      "Episode 124 \tScore: 2.79 \tAverage Score: 1.30\n",
      "Episode 125 \tScore: 1.84 \tAverage Score: 1.30\n",
      "Episode 126 \tScore: 1.83 \tAverage Score: 1.31\n",
      "Episode 127 \tScore: 1.51 \tAverage Score: 1.29\n",
      "Episode 128 \tScore: 1.71 \tAverage Score: 1.30\n",
      "Episode 129 \tScore: 1.47 \tAverage Score: 1.28\n",
      "Episode 130 \tScore: 0.34 \tAverage Score: 1.28\n",
      "Episode 131 \tScore: 0.48 \tAverage Score: 1.26\n",
      "Episode 132 \tScore: 1.26 \tAverage Score: 1.25\n",
      "Episode 133 \tScore: 0.76 \tAverage Score: 1.25\n",
      "Episode 134 \tScore: 0.96 \tAverage Score: 1.24\n",
      "Episode 135 \tScore: 2.70 \tAverage Score: 1.26\n",
      "Episode 136 \tScore: 0.30 \tAverage Score: 1.25\n",
      "Episode 137 \tScore: 1.25 \tAverage Score: 1.23\n",
      "Episode 138 \tScore: 2.78 \tAverage Score: 1.25\n",
      "Episode 139 \tScore: 0.76 \tAverage Score: 1.25\n",
      "Episode 140 \tScore: 1.01 \tAverage Score: 1.24\n",
      "Episode 141 \tScore: 1.08 \tAverage Score: 1.24\n",
      "Episode 142 \tScore: 1.35 \tAverage Score: 1.23\n",
      "Episode 143 \tScore: 1.66 \tAverage Score: 1.22\n",
      "Episode 144 \tScore: 0.42 \tAverage Score: 1.20\n",
      "Episode 145 \tScore: 0.71 \tAverage Score: 1.20\n",
      "Episode 146 \tScore: 1.12 \tAverage Score: 1.19\n",
      "Episode 147 \tScore: 1.65 \tAverage Score: 1.20\n",
      "Episode 148 \tScore: 0.67 \tAverage Score: 1.19\n",
      "Episode 149 \tScore: 1.78 \tAverage Score: 1.19\n",
      "Episode 150 \tScore: 0.76 \tAverage Score: 1.19\n",
      "Episode 151 \tScore: 0.55 \tAverage Score: 1.18\n",
      "Episode 152 \tScore: 1.12 \tAverage Score: 1.18\n",
      "Episode 153 \tScore: 2.76 \tAverage Score: 1.20\n",
      "Episode 154 \tScore: 0.27 \tAverage Score: 1.20\n",
      "Episode 155 \tScore: 1.31 \tAverage Score: 1.21\n",
      "Episode 156 \tScore: 1.65 \tAverage Score: 1.22\n",
      "Episode 157 \tScore: 0.61 \tAverage Score: 1.22\n"
     ]
    },
    {
     "ename": "KeyboardInterrupt",
     "evalue": "",
     "output_type": "error",
     "traceback": [
      "\u001b[0;31m---------------------------------------------------------------------------\u001b[0m",
      "\u001b[0;31mKeyboardInterrupt\u001b[0m                         Traceback (most recent call last)",
      "\u001b[0;32m<ipython-input-7-eb8e658a694a>\u001b[0m in \u001b[0;36m<module>\u001b[0;34m\u001b[0m\n\u001b[1;32m     55\u001b[0m     \u001b[0;32mreturn\u001b[0m \u001b[0mscores\u001b[0m\u001b[0;34m\u001b[0m\u001b[0;34m\u001b[0m\u001b[0m\n\u001b[1;32m     56\u001b[0m \u001b[0;34m\u001b[0m\u001b[0m\n\u001b[0;32m---> 57\u001b[0;31m \u001b[0mscores\u001b[0m \u001b[0;34m=\u001b[0m \u001b[0mddpg\u001b[0m\u001b[0;34m(\u001b[0m\u001b[0;34m)\u001b[0m\u001b[0;34m\u001b[0m\u001b[0;34m\u001b[0m\u001b[0m\n\u001b[0m",
      "\u001b[0;32m<ipython-input-7-eb8e658a694a>\u001b[0m in \u001b[0;36mddpg\u001b[0;34m(n_episodes, max_t, print_every)\u001b[0m\n\u001b[1;32m     28\u001b[0m \u001b[0;34m\u001b[0m\u001b[0m\n\u001b[1;32m     29\u001b[0m             \u001b[0;31m# Step\u001b[0m\u001b[0;34m\u001b[0m\u001b[0;34m\u001b[0m\u001b[0;34m\u001b[0m\u001b[0m\n\u001b[0;32m---> 30\u001b[0;31m             \u001b[0magent\u001b[0m\u001b[0;34m.\u001b[0m\u001b[0mstep\u001b[0m\u001b[0;34m(\u001b[0m\u001b[0mstate\u001b[0m\u001b[0;34m,\u001b[0m \u001b[0maction\u001b[0m\u001b[0;34m,\u001b[0m \u001b[0mreward\u001b[0m\u001b[0;34m,\u001b[0m \u001b[0mnext_state\u001b[0m\u001b[0;34m,\u001b[0m \u001b[0mdone\u001b[0m\u001b[0;34m)\u001b[0m\u001b[0;34m\u001b[0m\u001b[0;34m\u001b[0m\u001b[0m\n\u001b[0m\u001b[1;32m     31\u001b[0m \u001b[0;34m\u001b[0m\u001b[0m\n\u001b[1;32m     32\u001b[0m             \u001b[0mscore\u001b[0m \u001b[0;34m+=\u001b[0m \u001b[0mreward\u001b[0m  \u001b[0;31m# Update score (for each agent)\u001b[0m\u001b[0;34m\u001b[0m\u001b[0;34m\u001b[0m\u001b[0m\n",
      "\u001b[0;32m~/Documents/7. Deep Reinforcement Learning/Project 2 - Continuous Control/ddpg_agent.py\u001b[0m in \u001b[0;36mstep\u001b[0;34m(self, state, action, reward, next_state, done)\u001b[0m\n\u001b[1;32m     64\u001b[0m         \u001b[0;32mif\u001b[0m \u001b[0mlen\u001b[0m\u001b[0;34m(\u001b[0m\u001b[0mself\u001b[0m\u001b[0;34m.\u001b[0m\u001b[0mmemory\u001b[0m\u001b[0;34m)\u001b[0m \u001b[0;34m>\u001b[0m \u001b[0mBATCH_SIZE\u001b[0m\u001b[0;34m:\u001b[0m\u001b[0;34m\u001b[0m\u001b[0;34m\u001b[0m\u001b[0m\n\u001b[1;32m     65\u001b[0m             \u001b[0mexperiences\u001b[0m \u001b[0;34m=\u001b[0m \u001b[0mself\u001b[0m\u001b[0;34m.\u001b[0m\u001b[0mmemory\u001b[0m\u001b[0;34m.\u001b[0m\u001b[0msample\u001b[0m\u001b[0;34m(\u001b[0m\u001b[0;34m)\u001b[0m\u001b[0;34m\u001b[0m\u001b[0;34m\u001b[0m\u001b[0m\n\u001b[0;32m---> 66\u001b[0;31m             \u001b[0mself\u001b[0m\u001b[0;34m.\u001b[0m\u001b[0mlearn\u001b[0m\u001b[0;34m(\u001b[0m\u001b[0mexperiences\u001b[0m\u001b[0;34m,\u001b[0m \u001b[0mGAMMA\u001b[0m\u001b[0;34m)\u001b[0m\u001b[0;34m\u001b[0m\u001b[0;34m\u001b[0m\u001b[0m\n\u001b[0m\u001b[1;32m     67\u001b[0m \u001b[0;34m\u001b[0m\u001b[0m\n\u001b[1;32m     68\u001b[0m \u001b[0;34m\u001b[0m\u001b[0m\n",
      "\u001b[0;32m~/Documents/7. Deep Reinforcement Learning/Project 2 - Continuous Control/ddpg_agent.py\u001b[0m in \u001b[0;36mlearn\u001b[0;34m(self, experiences, gamma)\u001b[0m\n\u001b[1;32m    112\u001b[0m         \u001b[0;31m# Minimize the loss\u001b[0m\u001b[0;34m\u001b[0m\u001b[0;34m\u001b[0m\u001b[0;34m\u001b[0m\u001b[0m\n\u001b[1;32m    113\u001b[0m         \u001b[0mself\u001b[0m\u001b[0;34m.\u001b[0m\u001b[0mcritic_optimizer\u001b[0m\u001b[0;34m.\u001b[0m\u001b[0mzero_grad\u001b[0m\u001b[0;34m(\u001b[0m\u001b[0;34m)\u001b[0m\u001b[0;34m\u001b[0m\u001b[0;34m\u001b[0m\u001b[0m\n\u001b[0;32m--> 114\u001b[0;31m         \u001b[0mcritic_loss\u001b[0m\u001b[0;34m.\u001b[0m\u001b[0mbackward\u001b[0m\u001b[0;34m(\u001b[0m\u001b[0;34m)\u001b[0m\u001b[0;34m\u001b[0m\u001b[0;34m\u001b[0m\u001b[0m\n\u001b[0m\u001b[1;32m    115\u001b[0m         \u001b[0mself\u001b[0m\u001b[0;34m.\u001b[0m\u001b[0mcritic_optimizer\u001b[0m\u001b[0;34m.\u001b[0m\u001b[0mstep\u001b[0m\u001b[0;34m(\u001b[0m\u001b[0;34m)\u001b[0m\u001b[0;34m\u001b[0m\u001b[0;34m\u001b[0m\u001b[0m\n\u001b[1;32m    116\u001b[0m \u001b[0;34m\u001b[0m\u001b[0m\n",
      "\u001b[0;32m~/opt/anaconda3/envs/drlnd/lib/python3.6/site-packages/torch/tensor.py\u001b[0m in \u001b[0;36mbackward\u001b[0;34m(self, gradient, retain_graph, create_graph)\u001b[0m\n\u001b[1;32m    193\u001b[0m                 \u001b[0mproducts\u001b[0m\u001b[0;34m.\u001b[0m \u001b[0mDefaults\u001b[0m \u001b[0mto\u001b[0m\u001b[0;31m \u001b[0m\u001b[0;31m`\u001b[0m\u001b[0;31m`\u001b[0m\u001b[0;32mFalse\u001b[0m\u001b[0;31m`\u001b[0m\u001b[0;31m`\u001b[0m\u001b[0;34m.\u001b[0m\u001b[0;34m\u001b[0m\u001b[0;34m\u001b[0m\u001b[0m\n\u001b[1;32m    194\u001b[0m         \"\"\"\n\u001b[0;32m--> 195\u001b[0;31m         \u001b[0mtorch\u001b[0m\u001b[0;34m.\u001b[0m\u001b[0mautograd\u001b[0m\u001b[0;34m.\u001b[0m\u001b[0mbackward\u001b[0m\u001b[0;34m(\u001b[0m\u001b[0mself\u001b[0m\u001b[0;34m,\u001b[0m \u001b[0mgradient\u001b[0m\u001b[0;34m,\u001b[0m \u001b[0mretain_graph\u001b[0m\u001b[0;34m,\u001b[0m \u001b[0mcreate_graph\u001b[0m\u001b[0;34m)\u001b[0m\u001b[0;34m\u001b[0m\u001b[0;34m\u001b[0m\u001b[0m\n\u001b[0m\u001b[1;32m    196\u001b[0m \u001b[0;34m\u001b[0m\u001b[0m\n\u001b[1;32m    197\u001b[0m     \u001b[0;32mdef\u001b[0m \u001b[0mregister_hook\u001b[0m\u001b[0;34m(\u001b[0m\u001b[0mself\u001b[0m\u001b[0;34m,\u001b[0m \u001b[0mhook\u001b[0m\u001b[0;34m)\u001b[0m\u001b[0;34m:\u001b[0m\u001b[0;34m\u001b[0m\u001b[0;34m\u001b[0m\u001b[0m\n",
      "\u001b[0;32m~/opt/anaconda3/envs/drlnd/lib/python3.6/site-packages/torch/autograd/__init__.py\u001b[0m in \u001b[0;36mbackward\u001b[0;34m(tensors, grad_tensors, retain_graph, create_graph, grad_variables)\u001b[0m\n\u001b[1;32m     97\u001b[0m     Variable._execution_engine.run_backward(\n\u001b[1;32m     98\u001b[0m         \u001b[0mtensors\u001b[0m\u001b[0;34m,\u001b[0m \u001b[0mgrad_tensors\u001b[0m\u001b[0;34m,\u001b[0m \u001b[0mretain_graph\u001b[0m\u001b[0;34m,\u001b[0m \u001b[0mcreate_graph\u001b[0m\u001b[0;34m,\u001b[0m\u001b[0;34m\u001b[0m\u001b[0;34m\u001b[0m\u001b[0m\n\u001b[0;32m---> 99\u001b[0;31m         allow_unreachable=True)  # allow_unreachable flag\n\u001b[0m\u001b[1;32m    100\u001b[0m \u001b[0;34m\u001b[0m\u001b[0m\n\u001b[1;32m    101\u001b[0m \u001b[0;34m\u001b[0m\u001b[0m\n",
      "\u001b[0;31mKeyboardInterrupt\u001b[0m: "
     ]
    }
   ],
   "source": [
    "def ddpg(n_episodes=1000, max_t=10000, print_every=100):\n",
    "    \n",
    "    scores_deque = deque(maxlen=print_every) # Last 'print_every' scores\n",
    "    scores = [] # All scores \n",
    "    \n",
    "    # Iterate over episodes \n",
    "    for i_episode in range(1, n_episodes+1):\n",
    "        \n",
    "        # Reset environment, state, agent, and score \n",
    "        env_info = env.reset(train_mode=True)[brain_name]\n",
    "        state = env_info.vector_observations[0]  # Current state \n",
    "        agent.reset()\n",
    "        score = 0\n",
    "        \n",
    "        # Iterate over time steps \n",
    "        for t in range(max_t): \n",
    "            \n",
    "            # Action (for each agent)\n",
    "            action = agent.act(state)\n",
    "            \n",
    "            # Send actions to the environment\n",
    "            env_info = env.step(action)[brain_name]\n",
    "            \n",
    "            # Results \n",
    "            next_state = env_info.vector_observations[0]  # Next state (for each agent)  \n",
    "            reward = env_info.rewards[0]  # Reward (for each agent)\n",
    "            done = env_info.local_done[0]  # See if episode finished\n",
    "\n",
    "            # Step \n",
    "            agent.step(state, action, reward, next_state, done)\n",
    "\n",
    "            score += reward  # Update score (for each agent)\n",
    "            state = next_state  # Move current state forward \n",
    "            \n",
    "            # If envionment is over, break \n",
    "            if done:\n",
    "                break \n",
    "        \n",
    "        # Save scores\n",
    "        scores_deque.append(score)\n",
    "        scores.append(score)\n",
    "        \n",
    "        # Save Actor & Critic Weights \n",
    "        torch.save(agent.actor_local.state_dict(), 'checkpoint_actor.pth')\n",
    "        torch.save(agent.critic_local.state_dict(), 'checkpoint_critic.pth')\n",
    "        \n",
    "        # Print current episode, score, and average of last 'print_every' scores\n",
    "        print('\\rEpisode {} \\tScore: {:.2f} \\tAverage Score: {:.2f}'.format(i_episode, score, np.mean(scores_deque)))\n",
    "        \n",
    "        # Environment solved when average of last 100 scores is greater or equal to 30\n",
    "        if np.mean(scores_deque) >= 30.0: \n",
    "            print('Environment solved in {:d} episodes! Average score of {:.2f}'.format(i_episode-100, np.mean(scores_deque)))\n",
    "            break\n",
    "        \n",
    "    return scores\n",
    "\n",
    "scores = ddpg()"
   ]
  },
  {
   "cell_type": "markdown",
   "metadata": {},
   "source": [
    "<br> \n",
    "\n",
    "Plot"
   ]
  },
  {
   "cell_type": "code",
   "execution_count": null,
   "metadata": {},
   "outputs": [],
   "source": [
    "fig = plt.figure()\n",
    "ax = fig.add_subplot(111)\n",
    "plt.plot(np.arange(1, len(scores)+1), scores)\n",
    "plt.ylabel('Score')\n",
    "plt.xlabel('Episode #')\n",
    "plt.show()"
   ]
  },
  {
   "cell_type": "markdown",
   "metadata": {},
   "source": [
    "<br> \n",
    "\n",
    "Load Weights"
   ]
  },
  {
   "cell_type": "code",
   "execution_count": null,
   "metadata": {},
   "outputs": [],
   "source": [
    "agent.actor_local.load_state_dict(torch.load('checkpoint_actor.pth'))\n",
    "agent.critic_local.load_state_dict(torch.load('checkpoint_critic.pth'))"
   ]
  },
  {
   "cell_type": "markdown",
   "metadata": {},
   "source": [
    "<br> \n",
    "\n",
    "Watching a Smart Agent"
   ]
  },
  {
   "cell_type": "code",
   "execution_count": null,
   "metadata": {},
   "outputs": [],
   "source": [
    "state = env.reset()\n",
    "for t in range(200):\n",
    "    \n",
    "    action = agent.act(state, add_noise=False)\n",
    "    env.render()\n",
    "    state, reward, done, _ = env.step(action)\n",
    "    \n",
    "    if done:\n",
    "        break \n",
    "\n",
    "env.close()"
   ]
  },
  {
   "cell_type": "markdown",
   "metadata": {},
   "source": [
    "<br>"
   ]
  }
 ],
 "metadata": {
  "kernelspec": {
   "display_name": "drlnd",
   "language": "python",
   "name": "drlnd"
  },
  "language_info": {
   "codemirror_mode": {
    "name": "ipython",
    "version": 3
   },
   "file_extension": ".py",
   "mimetype": "text/x-python",
   "name": "python",
   "nbconvert_exporter": "python",
   "pygments_lexer": "ipython3",
   "version": "3.6.10"
  }
 },
 "nbformat": 4,
 "nbformat_minor": 4
}
