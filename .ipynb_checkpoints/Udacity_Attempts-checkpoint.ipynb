{
 "cells": [
  {
   "cell_type": "markdown",
   "metadata": {},
   "source": [
    "# Udacity's Benchmark Implmentation\n",
    "\n",
    "## An Amended DDPG Agent\n",
    "In this part of the Nanodegree program, you learned about a lot of potential ways to solve this project. We instead decided to solve the project by making some amendments to the Deep Deterministic Policy Gradients (DDPG) algorithm."
   ]
  },
  {
   "cell_type": "markdown",
   "metadata": {},
   "source": [
    "## Attempt 1\n",
    "The first thing that we did was amend the DDPG code to work for multiple agents, to solve version 2 of the environment. The DDPG code in the DRLND GitHub repository utilizes only a single agent, and with each step:\n",
    "- the agent adds its experience to the replay buffer, and\n",
    "- the (local) actor and critic networks are updated, using a sample from the replay buffer.\n",
    "\n",
    "So, in order to make the code work with 20 agents, we modified the code so that after each step:\n",
    "- each agent adds its experience to a replay buffer that is shared by all agents, and\n",
    "- the (local) actor and critic networks are updated 20 times in a row (one for each agent), using 20 different samples from the replay buffer.\n",
    "\n",
    "In hindsight, this wasn't a great plan, but it was a start! That said, the scores are shown below.\n",
    "\n",
    "<img src=\"img/attempt1.png\" style=\"width:450px; height:300px;\">\n",
    "\n",
    "You'll notice that we made some rapid improvement pretty early in training, because of the extremely large number of updates. Unfortunately, also due to the large number of updates, the agent is incredibly unstable. Around episode 100, performance crashed and did not recover.\n",
    "\n",
    "So, we focused on determining ways to stabilize this first attempt."
   ]
  },
  {
   "cell_type": "markdown",
   "metadata": {},
   "source": [
    "## Attempt 2\n",
    "\n",
    "For this second attempt, we reduced the number of agents from 20 to 1 (by switching to version 1 of the environment). We wanted to know how much stability we could expect from a single agent. The idea was that the code would likely train more reliably, if we didn't make so many updates. And it did train much better.\n",
    "\n",
    "<img src=\"img/attempt2.png\" style=\"width:450px; height:300px;\">\n",
    "\n",
    "At one point, we even hit the target score of 30. However, this score wasn't maintained for very long, and we saw strong indications that the algorithm was going to crash again. This showed us that we needed to spend more time with figuring out how to stabilize the algorithm, if we wanted to have a chance of training all 20 agents simultaneously."
   ]
  },
  {
   "cell_type": "markdown",
   "metadata": {},
   "source": [
    "## Attempt 3\n",
    "\n",
    "This time, we switched back to version 2 of the environment, and began with the code from **Attempt 1** as a starting point. Then, the only change we made was to use gradient clipping when training the critic network. The corresponding snippet of code was as follows:\n",
    "\n",
    "> self.critic_optimizer.zero_grad()  \n",
    "critic_loss.backward()  \n",
    "torch.nn.utils.clip_grad_norm(self.critic_local.parameters(), 1)  \n",
    "self.critic_optimizer.step()  \n",
    "\n",
    "The corresponding scores are plotted below.\n",
    "\n",
    "<img src=\"img/attempt3.png\" style=\"width:450px; height:300px;\">\n",
    "\n",
    "This is when we really started to feel hopeful. We still didn't maintain an average score of 30 over 100 episodes, but we maintained the score for longer than before. And the agent didn't crash as suddenly as in the previous attempts!"
   ]
  },
  {
   "cell_type": "markdown",
   "metadata": {},
   "source": [
    "## Attempt 4\n",
    "\n",
    "At this point, we decided to get less aggressive with the number of updates per time step. In particular, instead of updating the actor and critic networks **20 times** at every **timestep**, we amended the code to update the networks **10 times** after every **20 timesteps**. The corresponding scores are plotted below.\n",
    "\n",
    "<img src=\"img/attempt4.png\" style=\"width:450px; height:300px;\">\n",
    "\n",
    "And, this was enough to solve the environment! In hindsight, we probably should have realized this fix much earlier, but this long path to the solution was definitely a nice way to help with building intuition! :)"
   ]
  },
  {
   "cell_type": "markdown",
   "metadata": {},
   "source": [
    "<br>"
   ]
  }
 ],
 "metadata": {
  "kernelspec": {
   "display_name": "Python 3",
   "language": "python",
   "name": "python3"
  },
  "language_info": {
   "codemirror_mode": {
    "name": "ipython",
    "version": 3
   },
   "file_extension": ".py",
   "mimetype": "text/x-python",
   "name": "python",
   "nbconvert_exporter": "python",
   "pygments_lexer": "ipython3",
   "version": "3.7.7"
  }
 },
 "nbformat": 4,
 "nbformat_minor": 4
}
